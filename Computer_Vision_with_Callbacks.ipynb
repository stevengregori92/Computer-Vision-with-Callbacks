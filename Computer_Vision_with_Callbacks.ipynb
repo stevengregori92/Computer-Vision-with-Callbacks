{
  "nbformat": 4,
  "nbformat_minor": 0,
  "metadata": {
    "colab": {
      "provenance": [],
      "authorship_tag": "ABX9TyNGXffwlP+qNIJE8gr5maEL",
      "include_colab_link": true
    },
    "kernelspec": {
      "name": "python3",
      "display_name": "Python 3"
    },
    "language_info": {
      "name": "python"
    }
  },
  "cells": [
    {
      "cell_type": "markdown",
      "metadata": {
        "id": "view-in-github",
        "colab_type": "text"
      },
      "source": [
        "<a href=\"https://colab.research.google.com/github/stevengregori92/Computer-Vision-with-Callbacks/blob/main/Computer_Vision_with_Callbacks.ipynb\" target=\"_parent\"><img src=\"https://colab.research.google.com/assets/colab-badge.svg\" alt=\"Open In Colab\"/></a>"
      ]
    },
    {
      "cell_type": "code",
      "execution_count": null,
      "metadata": {
        "id": "t-FvkRoyy_tj"
      },
      "outputs": [],
      "source": [
        "import tensorflow as tf\n",
        "from tensorflow.keras.models import Sequential\n",
        "from tensorflow.keras.layers import Flatten\n",
        "from tensorflow.keras.layers import Dense\n",
        "from tensorflow.keras.callbacks import Callback"
      ]
    },
    {
      "cell_type": "code",
      "source": [
        "class myCallback(Callback):\n",
        "  def on_epoch_end(self, epoch, logs = {}):\n",
        "    if(logs.get('accuracy')>0.95):\n",
        "      print('\\nReached 95% accuracy, the training has been canceled!')\n",
        "      self.model.stop_training = True"
      ],
      "metadata": {
        "id": "LOqXoZtBzRZ0"
      },
      "execution_count": null,
      "outputs": []
    },
    {
      "cell_type": "code",
      "source": [
        "callbacks = myCallback()\n",
        "mnist = tf.keras.datasets.fashion_mnist"
      ],
      "metadata": {
        "id": "kEPDlX6gzy4b"
      },
      "execution_count": null,
      "outputs": []
    },
    {
      "cell_type": "code",
      "source": [
        "(X_train, X_test), (y_train, y_test) = mnist.load_data()"
      ],
      "metadata": {
        "colab": {
          "base_uri": "https://localhost:8080/"
        },
        "id": "hup9mVKhz5UI",
        "outputId": "c52e41eb-9fdd-4d27-b9b3-5ef431dea3d8"
      },
      "execution_count": null,
      "outputs": [
        {
          "output_type": "stream",
          "name": "stdout",
          "text": [
            "Downloading data from https://storage.googleapis.com/tensorflow/tf-keras-datasets/train-labels-idx1-ubyte.gz\n",
            "29515/29515 [==============================] - 0s 0us/step\n",
            "Downloading data from https://storage.googleapis.com/tensorflow/tf-keras-datasets/train-images-idx3-ubyte.gz\n",
            "26421880/26421880 [==============================] - 0s 0us/step\n",
            "Downloading data from https://storage.googleapis.com/tensorflow/tf-keras-datasets/t10k-labels-idx1-ubyte.gz\n",
            "5148/5148 [==============================] - 0s 0us/step\n",
            "Downloading data from https://storage.googleapis.com/tensorflow/tf-keras-datasets/t10k-images-idx3-ubyte.gz\n",
            "4422102/4422102 [==============================] - 0s 0us/step\n"
          ]
        }
      ]
    },
    {
      "cell_type": "code",
      "source": [
        "X_train = X_train/255.0\n",
        "y_train = y_train/255.0"
      ],
      "metadata": {
        "id": "_chEEP7o0Dl9"
      },
      "execution_count": null,
      "outputs": []
    },
    {
      "cell_type": "code",
      "source": [
        "model = Sequential([\n",
        "    Flatten(),\n",
        "    Dense(128, activation = tf.nn.relu),\n",
        "    Dense(10, activation = tf.nn.softmax)\n",
        "])"
      ],
      "metadata": {
        "id": "nRoGEtYd0KfA"
      },
      "execution_count": null,
      "outputs": []
    },
    {
      "cell_type": "code",
      "source": [
        "model.compile(optimizer = 'adam',\n",
        "              loss = 'sparse_categorical_crossentropy',\n",
        "              metrics=['accuracy'])"
      ],
      "metadata": {
        "id": "8ZCEizVN0RSy"
      },
      "execution_count": null,
      "outputs": []
    },
    {
      "cell_type": "code",
      "source": [
        "model.fit(X_train, X_test, epochs = 50, callbacks = [callbacks])"
      ],
      "metadata": {
        "colab": {
          "base_uri": "https://localhost:8080/"
        },
        "id": "zI1UxfY90YxX",
        "outputId": "65a899b6-53bb-48a4-c67c-5c9d4e45ed29"
      },
      "execution_count": null,
      "outputs": [
        {
          "output_type": "stream",
          "name": "stdout",
          "text": [
            "Epoch 1/50\n",
            "1875/1875 [==============================] - 9s 5ms/step - loss: 0.4987 - accuracy: 0.8247\n",
            "Epoch 2/50\n",
            "1875/1875 [==============================] - 8s 4ms/step - loss: 0.3735 - accuracy: 0.8647\n",
            "Epoch 3/50\n",
            "1875/1875 [==============================] - 9s 5ms/step - loss: 0.3351 - accuracy: 0.8780\n",
            "Epoch 4/50\n",
            "1875/1875 [==============================] - 8s 4ms/step - loss: 0.3102 - accuracy: 0.8857\n",
            "Epoch 5/50\n",
            "1875/1875 [==============================] - 8s 5ms/step - loss: 0.2959 - accuracy: 0.8916\n",
            "Epoch 6/50\n",
            "1875/1875 [==============================] - 10s 5ms/step - loss: 0.2799 - accuracy: 0.8978\n",
            "Epoch 7/50\n",
            "1875/1875 [==============================] - 7s 4ms/step - loss: 0.2667 - accuracy: 0.9010\n",
            "Epoch 8/50\n",
            "1875/1875 [==============================] - 9s 5ms/step - loss: 0.2570 - accuracy: 0.9040\n",
            "Epoch 9/50\n",
            "1875/1875 [==============================] - 9s 5ms/step - loss: 0.2479 - accuracy: 0.9072\n",
            "Epoch 10/50\n",
            "1875/1875 [==============================] - 8s 4ms/step - loss: 0.2393 - accuracy: 0.9107\n",
            "Epoch 11/50\n",
            "1875/1875 [==============================] - 9s 5ms/step - loss: 0.2316 - accuracy: 0.9130\n",
            "Epoch 12/50\n",
            "1875/1875 [==============================] - 9s 5ms/step - loss: 0.2243 - accuracy: 0.9163\n",
            "Epoch 13/50\n",
            "1875/1875 [==============================] - 8s 4ms/step - loss: 0.2177 - accuracy: 0.9185\n",
            "Epoch 14/50\n",
            "1875/1875 [==============================] - 9s 5ms/step - loss: 0.2105 - accuracy: 0.9203\n",
            "Epoch 15/50\n",
            "1875/1875 [==============================] - 9s 5ms/step - loss: 0.2034 - accuracy: 0.9239\n",
            "Epoch 16/50\n",
            "1875/1875 [==============================] - 9s 5ms/step - loss: 0.1986 - accuracy: 0.9252\n",
            "Epoch 17/50\n",
            "1875/1875 [==============================] - 8s 4ms/step - loss: 0.1916 - accuracy: 0.9283\n",
            "Epoch 18/50\n",
            "1875/1875 [==============================] - 9s 5ms/step - loss: 0.1877 - accuracy: 0.9288\n",
            "Epoch 19/50\n",
            "1875/1875 [==============================] - 8s 4ms/step - loss: 0.1816 - accuracy: 0.9321\n",
            "Epoch 20/50\n",
            "1875/1875 [==============================] - 9s 5ms/step - loss: 0.1785 - accuracy: 0.9330\n",
            "Epoch 21/50\n",
            "1875/1875 [==============================] - 9s 5ms/step - loss: 0.1717 - accuracy: 0.9363\n",
            "Epoch 22/50\n",
            "1875/1875 [==============================] - 11s 6ms/step - loss: 0.1676 - accuracy: 0.9370\n",
            "Epoch 23/50\n",
            "1875/1875 [==============================] - 9s 5ms/step - loss: 0.1653 - accuracy: 0.9385\n",
            "Epoch 24/50\n",
            "1875/1875 [==============================] - 11s 6ms/step - loss: 0.1621 - accuracy: 0.9388\n",
            "Epoch 25/50\n",
            "1875/1875 [==============================] - 11s 6ms/step - loss: 0.1581 - accuracy: 0.9405\n",
            "Epoch 26/50\n",
            "1875/1875 [==============================] - 12s 6ms/step - loss: 0.1538 - accuracy: 0.9424\n",
            "Epoch 27/50\n",
            "1875/1875 [==============================] - 12s 6ms/step - loss: 0.1490 - accuracy: 0.9438\n",
            "Epoch 28/50\n",
            "1875/1875 [==============================] - 12s 6ms/step - loss: 0.1478 - accuracy: 0.9440\n",
            "Epoch 29/50\n",
            "1875/1875 [==============================] - 12s 6ms/step - loss: 0.1448 - accuracy: 0.9458\n",
            "Epoch 30/50\n",
            "1875/1875 [==============================] - 11s 6ms/step - loss: 0.1418 - accuracy: 0.9470\n",
            "Epoch 31/50\n",
            "1875/1875 [==============================] - 11s 6ms/step - loss: 0.1386 - accuracy: 0.9465\n",
            "Epoch 32/50\n",
            "1875/1875 [==============================] - 11s 6ms/step - loss: 0.1344 - accuracy: 0.9496\n",
            "Epoch 33/50\n",
            "1871/1875 [============================>.] - ETA: 0s - loss: 0.1330 - accuracy: 0.9500\n",
            "Reached 95% accuracy, the training has been canceled!\n",
            "1875/1875 [==============================] - 11s 6ms/step - loss: 0.1330 - accuracy: 0.9500\n"
          ]
        },
        {
          "output_type": "execute_result",
          "data": {
            "text/plain": [
              "<keras.callbacks.History at 0x7f6eb4bd87f0>"
            ]
          },
          "metadata": {},
          "execution_count": 10
        }
      ]
    },
    {
      "cell_type": "code",
      "source": [],
      "metadata": {
        "id": "PVu0ltdP0kaJ"
      },
      "execution_count": null,
      "outputs": []
    }
  ]
}